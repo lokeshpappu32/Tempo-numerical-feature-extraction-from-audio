{
 "cells": [
  {
   "cell_type": "code",
   "execution_count": 1,
   "id": "ac4795ce",
   "metadata": {},
   "outputs": [
    {
     "name": "stderr",
     "output_type": "stream",
     "text": [
      "<ipython-input-1-8de8d30c9759>:17: FutureWarning: librosa.beat.tempo\n",
      "\tThis function was moved to 'librosa.feature.rhythm.tempo' in librosa version 0.10.0.\n",
      "\tThis alias will be removed in librosa version 1.0.\n",
      "  tempo = librosa.beat.tempo(y=signal, sr=sr)\n"
     ]
    }
   ],
   "source": [
    "import os\n",
    "import librosa\n",
    "\n",
    "# Directory path containing the audio files\n",
    "directory = 'C:/Users/LOKESH PAPPU/Desktop/NITW/day 11/Dataset Child/Female/'\n",
    "# Initialize an empty list to store the extracted chroma features\n",
    "all_tempo_features = []\n",
    "\n",
    "# Iterate over the files in the directory\n",
    "for filename in os.listdir(directory):\n",
    "    if filename.endswith('.wav'):\n",
    "        # Load the audio signal\n",
    "        audio_path = os.path.join(directory, filename)\n",
    "        signal, sr = librosa.load(audio_path, sr=None)\n",
    "\n",
    "        # Extract tempo feature\n",
    "        tempo = librosa.beat.tempo(y=signal, sr=sr)\n",
    "        # Append the chroma features to the list\n",
    "        all_tempo_features.append(tempo)\n",
    "        "
   ]
  },
  {
   "cell_type": "code",
   "execution_count": 2,
   "id": "5ba62ad9",
   "metadata": {},
   "outputs": [],
   "source": [
    "import pandas as pd\n",
    "df=pd.DataFrame(all_tempo_features)\n",
    "df[\"gender\"]=\"female\"\n",
    "df[\"label\"]=\"child\"\n",
    "df.to_csv(\"Child_Female_Tempo_Features.csv\",index=False)"
   ]
  },
  {
   "cell_type": "code",
   "execution_count": 4,
   "id": "f3cd2007",
   "metadata": {},
   "outputs": [
    {
     "name": "stderr",
     "output_type": "stream",
     "text": [
      "<ipython-input-4-28de10685dd5>:17: FutureWarning: librosa.beat.tempo\n",
      "\tThis function was moved to 'librosa.feature.rhythm.tempo' in librosa version 0.10.0.\n",
      "\tThis alias will be removed in librosa version 1.0.\n",
      "  tempo = librosa.beat.tempo(y=signal, sr=sr)\n"
     ]
    }
   ],
   "source": [
    "import os\n",
    "import librosa\n",
    "\n",
    "# Directory path containing the audio files\n",
    "directory = 'C:/Users/LOKESH PAPPU/Desktop/NITW/day 11/Dataset Child/Male/'\n",
    "# Initialize an empty list to store the extracted chroma features\n",
    "all_tempo_features = []\n",
    "\n",
    "# Iterate over the files in the directory\n",
    "for filename in os.listdir(directory):\n",
    "    if filename.endswith('.wav'):\n",
    "        # Load the audio signal\n",
    "        audio_path = os.path.join(directory, filename)\n",
    "        signal, sr = librosa.load(audio_path, sr=None)\n",
    "\n",
    "        # Extract tempo feature\n",
    "        tempo = librosa.beat.tempo(y=signal, sr=sr)\n",
    "        # Append the chroma features to the list\n",
    "        all_tempo_features.append(tempo)\n",
    "\n",
    "        \n",
    "import pandas as pd\n",
    "df=pd.DataFrame(all_tempo_features)\n",
    "df[\"gender\"]=\"male\"\n",
    "df[\"label\"]=\"child\"\n",
    "df.to_csv(\"Child_Male_Tempo_Features.csv\",index=False)"
   ]
  },
  {
   "cell_type": "code",
   "execution_count": 5,
   "id": "68b16d2a",
   "metadata": {},
   "outputs": [
    {
     "name": "stderr",
     "output_type": "stream",
     "text": [
      "<ipython-input-5-3677c2ba28dc>:17: FutureWarning: librosa.beat.tempo\n",
      "\tThis function was moved to 'librosa.feature.rhythm.tempo' in librosa version 0.10.0.\n",
      "\tThis alias will be removed in librosa version 1.0.\n",
      "  tempo = librosa.beat.tempo(y=signal, sr=sr)\n"
     ]
    }
   ],
   "source": [
    "import os\n",
    "import librosa\n",
    "\n",
    "# Directory path containing the audio files\n",
    "directory = 'C:/Users/LOKESH PAPPU/Desktop/NITW/day 11/Mozilla Dataset Adult/Female'\n",
    "# Initialize an empty list to store the extracted chroma features\n",
    "all_tempo_features = []\n",
    "\n",
    "# Iterate over the files in the directory\n",
    "for filename in os.listdir(directory):\n",
    "    if filename.endswith('.mp3'):\n",
    "        # Load the audio signal\n",
    "        audio_path = os.path.join(directory, filename)\n",
    "        signal, sr = librosa.load(audio_path, sr=None)\n",
    "\n",
    "        # Extract tempo feature\n",
    "        tempo = librosa.beat.tempo(y=signal, sr=sr)\n",
    "        # Append the chroma features to the list\n",
    "        all_tempo_features.append(tempo)\n",
    "\n",
    "        \n",
    "import pandas as pd\n",
    "df=pd.DataFrame(all_tempo_features)\n",
    "df[\"gender\"]=\"female\"\n",
    "df[\"label\"]=\"adult\"\n",
    "df.to_csv(\"Adult_Female_Tempo_Features.csv\",index=False)"
   ]
  },
  {
   "cell_type": "code",
   "execution_count": 6,
   "id": "f2b126d6",
   "metadata": {},
   "outputs": [
    {
     "name": "stderr",
     "output_type": "stream",
     "text": [
      "<ipython-input-6-9cf90c620e77>:17: FutureWarning: librosa.beat.tempo\n",
      "\tThis function was moved to 'librosa.feature.rhythm.tempo' in librosa version 0.10.0.\n",
      "\tThis alias will be removed in librosa version 1.0.\n",
      "  tempo = librosa.beat.tempo(y=signal, sr=sr)\n"
     ]
    }
   ],
   "source": [
    "import os\n",
    "import librosa\n",
    "\n",
    "# Directory path containing the audio files\n",
    "directory = 'C:/Users/LOKESH PAPPU/Desktop/NITW/day 11/Mozilla Dataset Adult/Male'\n",
    "# Initialize an empty list to store the extracted chroma features\n",
    "all_tempo_features = []\n",
    "\n",
    "# Iterate over the files in the directory\n",
    "for filename in os.listdir(directory):\n",
    "    if filename.endswith('.mp3'):\n",
    "        # Load the audio signal\n",
    "        audio_path = os.path.join(directory, filename)\n",
    "        signal, sr = librosa.load(audio_path, sr=None)\n",
    "\n",
    "        # Extract tempo feature\n",
    "        tempo = librosa.beat.tempo(y=signal, sr=sr)\n",
    "        # Append the chroma features to the list\n",
    "        all_tempo_features.append(tempo)\n",
    "\n",
    "        \n",
    "import pandas as pd\n",
    "df=pd.DataFrame(all_tempo_features)\n",
    "df[\"gender\"]=\"male\"\n",
    "df[\"label\"]=\"adult\"\n",
    "df.to_csv(\"Adult_Male_Tempo_Features.csv\",index=False)"
   ]
  },
  {
   "cell_type": "code",
   "execution_count": null,
   "id": "cc28f19b",
   "metadata": {},
   "outputs": [],
   "source": []
  }
 ],
 "metadata": {
  "kernelspec": {
   "display_name": "Python 3",
   "language": "python",
   "name": "python3"
  },
  "language_info": {
   "codemirror_mode": {
    "name": "ipython",
    "version": 3
   },
   "file_extension": ".py",
   "mimetype": "text/x-python",
   "name": "python",
   "nbconvert_exporter": "python",
   "pygments_lexer": "ipython3",
   "version": "3.8.8"
  }
 },
 "nbformat": 4,
 "nbformat_minor": 5
}
